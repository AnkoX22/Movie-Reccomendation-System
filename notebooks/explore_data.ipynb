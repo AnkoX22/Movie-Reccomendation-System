{
 "cells": [
  {
   "metadata": {},
   "cell_type": "markdown",
   "source": "### Exploring the data, and the demographic",
   "id": "ab4ccac498baa818"
  },
  {
   "metadata": {},
   "cell_type": "markdown",
   "source": "Firstly we will need to import the data, in this analysis we will use: pandas, numpy, seaborn, matplotlib",
   "id": "ea9f3c5cc9afd6a9"
  },
  {
   "metadata": {
    "collapsed": true,
    "ExecuteTime": {
     "end_time": "2025-09-24T18:05:52.861744Z",
     "start_time": "2025-09-24T18:05:52.857577Z"
    }
   },
   "cell_type": "code",
   "source": [
    "import pandas as pd\n",
    "import numpy as np\n",
    "import matplotlib.pyplot as plt\n",
    "import seaborn as sns\n",
    "from src import data_loader"
   ],
   "id": "43716773f415bdbe",
   "outputs": [],
   "execution_count": 60
  },
  {
   "metadata": {},
   "cell_type": "markdown",
   "source": "Then we will load all the data we will probably need to analyze:",
   "id": "8780a43a7f205e9a"
  },
  {
   "metadata": {
    "ExecuteTime": {
     "end_time": "2025-09-24T18:05:53.138437Z",
     "start_time": "2025-09-24T18:05:52.888422Z"
    }
   },
   "cell_type": "code",
   "source": [
    "ratings, movies, users, genres, occupations = data_loader.load_data()\n",
    "movies_ratings = data_loader.create_movie_ratings_array(ratings, movies)\n",
    "user_ratings = data_loader.create_user_ratings_array(ratings, users)"
   ],
   "id": "f42d31c0ed3e0402",
   "outputs": [],
   "execution_count": 61
  },
  {
   "metadata": {},
   "cell_type": "markdown",
   "source": "Let's then print the shape of our data along with the first few lines so that we know what exactly we are working with:",
   "id": "4184b163248363af"
  },
  {
   "metadata": {
    "ExecuteTime": {
     "end_time": "2025-09-24T18:05:53.154812Z",
     "start_time": "2025-09-24T18:05:53.148445Z"
    }
   },
   "cell_type": "code",
   "source": [
    "print(f\"The shape of the ratings data frame is {ratings.shape}\")\n",
    "print(\"The first 5 lines of data are:\")\n",
    "print(ratings[:5])"
   ],
   "id": "f6daf16a51ae90bc",
   "outputs": [
    {
     "name": "stdout",
     "output_type": "stream",
     "text": [
      "The shape of the ratings data frame is (100000, 4)\n",
      "The first 5 lines of data are:\n",
      "   userId  movieId  rating  timestamp\n",
      "0     196      242       3  881250949\n",
      "1     186      302       3  891717742\n",
      "2      22      377       1  878887116\n",
      "3     244       51       2  880606923\n",
      "4     166      346       1  886397596\n"
     ]
    }
   ],
   "execution_count": 62
  },
  {
   "metadata": {
    "ExecuteTime": {
     "end_time": "2025-09-24T18:05:53.186328Z",
     "start_time": "2025-09-24T18:05:53.171008Z"
    }
   },
   "cell_type": "code",
   "source": [
    "print(f\"The shape of the movies data frame is {movies.shape}\")\n",
    "print(\"The first 5 lines of data are:\")\n",
    "print(movies[:5])"
   ],
   "id": "425e56a94f937dfb",
   "outputs": [
    {
     "name": "stdout",
     "output_type": "stream",
     "text": [
      "The shape of the movies data frame is (1682, 24)\n",
      "The first 5 lines of data are:\n",
      "   movieId              title  releaseDate  videoReleaseDate  \\\n",
      "0        1   Toy Story (1995)  01-Jan-1995               NaN   \n",
      "1        2   GoldenEye (1995)  01-Jan-1995               NaN   \n",
      "2        3  Four Rooms (1995)  01-Jan-1995               NaN   \n",
      "3        4  Get Shorty (1995)  01-Jan-1995               NaN   \n",
      "4        5     Copycat (1995)  01-Jan-1995               NaN   \n",
      "\n",
      "                                             imdbUrl  unknown  action  \\\n",
      "0  http://us.imdb.com/M/title-exact?Toy%20Story%2...        0       0   \n",
      "1  http://us.imdb.com/M/title-exact?GoldenEye%20(...        0       1   \n",
      "2  http://us.imdb.com/M/title-exact?Four%20Rooms%...        0       0   \n",
      "3  http://us.imdb.com/M/title-exact?Get%20Shorty%...        0       1   \n",
      "4  http://us.imdb.com/M/title-exact?Copycat%20(1995)        0       0   \n",
      "\n",
      "   adventure  animation  children's  ...  fantasy  film-noir  horror  musical  \\\n",
      "0          0          1           1  ...        0          0       0        0   \n",
      "1          1          0           0  ...        0          0       0        0   \n",
      "2          0          0           0  ...        0          0       0        0   \n",
      "3          0          0           0  ...        0          0       0        0   \n",
      "4          0          0           0  ...        0          0       0        0   \n",
      "\n",
      "   mystery  romance  sci-fi  thriller  war  western  \n",
      "0        0        0       0         0    0        0  \n",
      "1        0        0       0         1    0        0  \n",
      "2        0        0       0         1    0        0  \n",
      "3        0        0       0         0    0        0  \n",
      "4        0        0       0         1    0        0  \n",
      "\n",
      "[5 rows x 24 columns]\n"
     ]
    }
   ],
   "execution_count": 63
  },
  {
   "metadata": {
    "ExecuteTime": {
     "end_time": "2025-09-24T18:05:53.222471Z",
     "start_time": "2025-09-24T18:05:53.215104Z"
    }
   },
   "cell_type": "code",
   "source": [
    "print(f\"The shape of the users data frame is {users.shape}\")\n",
    "print(\"The first 5 lines of data are:\")\n",
    "print(users[:5])"
   ],
   "id": "22f692fce51241fa",
   "outputs": [
    {
     "name": "stdout",
     "output_type": "stream",
     "text": [
      "The shape of the users data frame is (943, 5)\n",
      "The first 5 lines of data are:\n",
      "   userId  age gender  occupation zipcode\n",
      "0       1   24      M  technician   85711\n",
      "1       2   53      F       other   94043\n",
      "2       3   23      M      writer   32067\n",
      "3       4   24      M  technician   43537\n",
      "4       5   33      F       other   15213\n"
     ]
    }
   ],
   "execution_count": 64
  },
  {
   "metadata": {
    "ExecuteTime": {
     "end_time": "2025-09-24T18:05:53.250508Z",
     "start_time": "2025-09-24T18:05:53.241556Z"
    }
   },
   "cell_type": "code",
   "source": [
    "print(f\"The shape of the genres data frame is {genres.shape}\")\n",
    "print(\"The first 5 lines of data are:\")\n",
    "print(genres[:5])"
   ],
   "id": "a59d9b53927f0fb4",
   "outputs": [
    {
     "name": "stdout",
     "output_type": "stream",
     "text": [
      "The shape of the genres data frame is (19, 1)\n",
      "The first 5 lines of data are:\n",
      "            genre\n",
      "unknown         0\n",
      "Action          1\n",
      "Adventure       2\n",
      "Animation       3\n",
      "Children's      4\n"
     ]
    }
   ],
   "execution_count": 65
  },
  {
   "metadata": {
    "ExecuteTime": {
     "end_time": "2025-09-24T18:05:53.297579Z",
     "start_time": "2025-09-24T18:05:53.293007Z"
    }
   },
   "cell_type": "code",
   "source": [
    "print(f\"The shape of the occupations data frame is {occupations.shape}\")\n",
    "print(\"The first 5 lines of data are:\")\n",
    "print(occupations[:5])"
   ],
   "id": "b345a84fae60e2e5",
   "outputs": [
    {
     "name": "stdout",
     "output_type": "stream",
     "text": [
      "The shape of the occupations data frame is (21, 1)\n",
      "The first 5 lines of data are:\n",
      "      occupation\n",
      "0  administrator\n",
      "1         artist\n",
      "2         doctor\n",
      "3       educator\n",
      "4       engineer\n"
     ]
    }
   ],
   "execution_count": 66
  },
  {
   "metadata": {
    "ExecuteTime": {
     "end_time": "2025-09-24T18:05:53.327701Z",
     "start_time": "2025-09-24T18:05:53.312415Z"
    }
   },
   "cell_type": "code",
   "source": [
    "print(f\"The shape of movie & ratings data frame is {movies_ratings.shape}\")\n",
    "print(\"The first 5 lines of data are:\")\n",
    "print(movies_ratings[:5])"
   ],
   "id": "9a12bd3271f9e792",
   "outputs": [
    {
     "name": "stdout",
     "output_type": "stream",
     "text": [
      "The shape of movie & ratings data frame is (100000, 27)\n",
      "The first 5 lines of data are:\n",
      "   userId  movieId  rating  timestamp                       title  \\\n",
      "0     196      242       3  881250949                Kolya (1996)   \n",
      "1     186      302       3  891717742    L.A. Confidential (1997)   \n",
      "2      22      377       1  878887116         Heavyweights (1994)   \n",
      "3     244       51       2  880606923  Legends of the Fall (1994)   \n",
      "4     166      346       1  886397596         Jackie Brown (1997)   \n",
      "\n",
      "   releaseDate  videoReleaseDate  \\\n",
      "0  24-Jan-1997               NaN   \n",
      "1  01-Jan-1997               NaN   \n",
      "2  01-Jan-1994               NaN   \n",
      "3  01-Jan-1994               NaN   \n",
      "4  01-Jan-1997               NaN   \n",
      "\n",
      "                                             imdbUrl  unknown  action  ...  \\\n",
      "0    http://us.imdb.com/M/title-exact?Kolya%20(1996)        0       0  ...   \n",
      "1  http://us.imdb.com/M/title-exact?L%2EA%2E+Conf...        0       0  ...   \n",
      "2  http://us.imdb.com/M/title-exact?Heavyweights%...        0       0  ...   \n",
      "3  http://us.imdb.com/M/title-exact?Legends%20of%...        0       0  ...   \n",
      "4  http://us.imdb.com/M/title-exact?imdb-title-11...        0       0  ...   \n",
      "\n",
      "   fantasy  film-noir  horror  musical  mystery  romance  sci-fi  thriller  \\\n",
      "0        0          0       0        0        0        0       0         0   \n",
      "1        0          1       0        0        1        0       0         1   \n",
      "2        0          0       0        0        0        0       0         0   \n",
      "3        0          0       0        0        0        1       0         0   \n",
      "4        0          0       0        0        0        0       0         0   \n",
      "\n",
      "   war  western  \n",
      "0    0        0  \n",
      "1    0        0  \n",
      "2    0        0  \n",
      "3    1        1  \n",
      "4    0        0  \n",
      "\n",
      "[5 rows x 27 columns]\n"
     ]
    }
   ],
   "execution_count": 67
  },
  {
   "metadata": {
    "ExecuteTime": {
     "end_time": "2025-09-24T18:05:53.355693Z",
     "start_time": "2025-09-24T18:05:53.349536Z"
    }
   },
   "cell_type": "code",
   "source": [
    "print(f\"The shape of the user & ratings data frame is {user_ratings.shape}\")\n",
    "print(\"The first 5 lines of data are:\")\n",
    "print(user_ratings[:5])"
   ],
   "id": "37ce083bd1fc3f65",
   "outputs": [
    {
     "name": "stdout",
     "output_type": "stream",
     "text": [
      "The shape of the user & ratings data frame is (100000, 8)\n",
      "The first 5 lines of data are:\n",
      "   userId  movieId  rating  timestamp  age gender  occupation zipcode\n",
      "0     196      242       3  881250949   49      M      writer   55105\n",
      "1     186      302       3  891717742   39      F   executive   00000\n",
      "2      22      377       1  878887116   25      M      writer   40206\n",
      "3     244       51       2  880606923   28      M  technician   80525\n",
      "4     166      346       1  886397596   47      M    educator   55113\n"
     ]
    }
   ],
   "execution_count": 68
  },
  {
   "metadata": {},
   "cell_type": "markdown",
   "source": "Now that we have an idea about our initial data, the next thing we could do is analyze the profiles of the people rating the data. We could view the count of ratings as well as the average rating per the age as well as occupation and gender. The result of this analysis will probably be highly theoretical since we do not know the quality of data and the dataset is pretty old.",
   "id": "c75a98a209424c68"
  },
  {
   "metadata": {
    "ExecuteTime": {
     "end_time": "2025-09-24T18:05:53.444252Z",
     "start_time": "2025-09-24T18:05:53.380620Z"
    }
   },
   "cell_type": "code",
   "source": [
    "ratings_stats_per_age = (\n",
    "    user_ratings.groupby(\"age\", as_index=False)['rating']\n",
    "    .agg(count='count', mean='mean')\n",
    ")\n",
    "print(ratings_stats_per_age.head())"
   ],
   "id": "dcb092cf16a441ed",
   "outputs": [
    {
     "name": "stdout",
     "output_type": "stream",
     "text": [
      "   age  count      mean\n",
      "0    7     43  3.767442\n",
      "1   10     31  3.387097\n",
      "2   11     27  2.925926\n",
      "3   13    497  3.470825\n",
      "4   14    264  3.375000\n"
     ]
    }
   ],
   "execution_count": 69
  },
  {
   "metadata": {
    "ExecuteTime": {
     "end_time": "2025-09-24T18:05:53.505881Z",
     "start_time": "2025-09-24T18:05:53.479460Z"
    }
   },
   "cell_type": "code",
   "source": [
    "ratings_stats_per_gender = (\n",
    "    user_ratings.groupby(\"gender\", as_index=False)['rating']\n",
    "    .agg(count='count', mean='mean')\n",
    ")\n",
    "print(ratings_stats_per_gender.head())"
   ],
   "id": "4176c0facef178e2",
   "outputs": [
    {
     "name": "stdout",
     "output_type": "stream",
     "text": [
      "  gender  count      mean\n",
      "0      F  25740  3.531507\n",
      "1      M  74260  3.529289\n"
     ]
    }
   ],
   "execution_count": 70
  },
  {
   "metadata": {
    "ExecuteTime": {
     "end_time": "2025-09-24T18:05:53.539126Z",
     "start_time": "2025-09-24T18:05:53.518919Z"
    }
   },
   "cell_type": "code",
   "source": [
    "ratings_stats_per_occupation = (\n",
    "    user_ratings.groupby(\"occupation\", as_index=False)['rating']\n",
    "    .agg(count='count', mean='mean')\n",
    ")\n",
    "print(ratings_stats_per_occupation.head())"
   ],
   "id": "c8188910128d53e0",
   "outputs": [
    {
     "name": "stdout",
     "output_type": "stream",
     "text": [
      "      occupation  count      mean\n",
      "0  administrator   7479  3.635646\n",
      "1         artist   2308  3.653380\n",
      "2         doctor    540  3.688889\n",
      "3       educator   9442  3.670621\n",
      "4       engineer   8175  3.541407\n"
     ]
    }
   ],
   "execution_count": 71
  },
  {
   "metadata": {},
   "cell_type": "markdown",
   "source": "Personally I do not really care too much about zip codes, they could probably be used to track location, but I'm not interested enough to get that deep.Another final stat that i would like to explore is definitely rating count and mean by age and gender.",
   "id": "845eefb714bc0d5f"
  },
  {
   "metadata": {
    "ExecuteTime": {
     "end_time": "2025-09-24T18:05:53.601837Z",
     "start_time": "2025-09-24T18:05:53.563203Z"
    }
   },
   "cell_type": "code",
   "source": [
    "ratings_stats_per_age_and_gender = (\n",
    "    user_ratings.groupby([\"age\", \"gender\"], as_index=False)['rating']\n",
    "    .agg(count='count', mean='mean')\n",
    ")\n",
    "print(ratings_stats_per_age_and_gender.head())"
   ],
   "id": "66805b05095829a",
   "outputs": [
    {
     "name": "stdout",
     "output_type": "stream",
     "text": [
      "   age gender  count      mean\n",
      "0    7      M     43  3.767442\n",
      "1   10      M     31  3.387097\n",
      "2   11      M     27  2.925926\n",
      "3   13      F     69  3.144928\n",
      "4   13      M    428  3.523364\n"
     ]
    }
   ],
   "execution_count": 72
  },
  {
   "metadata": {},
   "cell_type": "markdown",
   "source": "Then, to get a better feel of the data it would be a good idea to visualize it. We will be creating various diagrams to visualize the data we grouped above. From the dataset we know that the rating has a min value of 0 and a max value of 5.",
   "id": "d9ceed73f1beb50d"
  },
  {
   "metadata": {
    "ExecuteTime": {
     "end_time": "2025-09-24T18:10:38.261793Z",
     "start_time": "2025-09-24T18:10:37.913429Z"
    }
   },
   "cell_type": "code",
   "source": [
    "# sns.histplot(ratings_stats_per_age, x=\"age\", y= \"count\", bins=100)\n",
    "\n",
    "# sns.barplot(ratings_stats_per_age, x=\"age\", y=\"count\")"
   ],
   "id": "c73ff2a47133c997",
   "outputs": [
    {
     "data": {
      "text/plain": [
       "<Axes: xlabel='age', ylabel='count'>"
      ]
     },
     "execution_count": 83,
     "metadata": {},
     "output_type": "execute_result"
    },
    {
     "data": {
      "text/plain": [
       "<Figure size 640x480 with 1 Axes>"
      ],
      "image/png": "[encoded data removed]"
     },
     "metadata": {},
     "output_type": "display_data",
     "jetTransient": {
      "display_id": null
     }
    }
   ],
   "execution_count": 83
  }
 ],
 "metadata": {
  "kernelspec": {
   "display_name": "Python 3",
   "language": "python",
   "name": "python3"
  },
  "language_info": {
   "codemirror_mode": {
    "name": "ipython",
    "version": 2
   },
   "file_extension": ".py",
   "mimetype": "text/x-python",
   "name": "python",
   "nbconvert_exporter": "python",
   "pygments_lexer": "ipython2",
   "version": "2.7.6"
  }
 },
 "nbformat": 4,
 "nbformat_minor": 5
}
