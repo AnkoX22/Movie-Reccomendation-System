{
 "cells": [
  {
   "metadata": {},
   "cell_type": "markdown",
   "source": [
    "\n",
    "### Filtering Algorithms Implementation and Evaluation"
   ],
   "id": "bed8f9a63a503214"
  },
  {
   "metadata": {
    "ExecuteTime": {
     "end_time": "2025-09-28T13:30:26.293646Z",
     "start_time": "2025-09-28T13:30:26.196070Z"
    }
   },
   "cell_type": "code",
   "source": [
    "from sklearn.metrics.pairwise import cosine_similarity\n",
    "\n",
    "from src import data_loader, utils\n",
    "import numpy as np\n",
    "import pandas as pd\n",
    "import matplotlib.pyplot as plt\n",
    "\n",
    "ratings, movies, users, genres, occupation = data_loader.load_data()\n",
    "\n",
    "movie_data_array = ratings[['userId', 'movieId', 'rating']].values\n",
    "print(movie_data_array)\n",
    "cosine_similarity, pearson_correlation = utils.user_based_cf(1,movie_data_array)\n",
    "print(cosine_similarity)\n",
    "print(pearson_correlation)\n",
    "\n"
   ],
   "id": "7da0982d3df175b3",
   "outputs": [
    {
     "name": "stdout",
     "output_type": "stream",
     "text": [
      "[[ 196  242    3]\n",
      " [ 186  302    3]\n",
      " [  22  377    1]\n",
      " ...\n",
      " [ 276 1090    1]\n",
      " [  13  225    2]\n",
      " [  12  203    3]]\n",
      "[]\n",
      "[]\n"
     ]
    }
   ],
   "execution_count": 17
  },
  {
   "metadata": {
    "ExecuteTime": {
     "end_time": "2025-09-28T13:30:01.392109Z",
     "start_time": "2025-09-28T13:30:01.386270Z"
    }
   },
   "cell_type": "code",
   "source": "",
   "id": "5512005a63786b29",
   "outputs": [],
   "execution_count": null
  }
 ],
 "metadata": {
  "kernelspec": {
   "name": "python3",
   "language": "python",
   "display_name": "Python 3 (ipykernel)"
  }
 },
 "nbformat": 4,
 "nbformat_minor": 5
}
